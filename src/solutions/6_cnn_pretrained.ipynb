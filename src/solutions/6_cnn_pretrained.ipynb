{
 "cells": [
  {
   "cell_type": "code",
   "execution_count": 1,
   "metadata": {
    "collapsed": true
   },
   "outputs": [],
   "source": [
    "import numpy as np\n",
    "\n",
    "from sklearn.metrics import accuracy_score"
   ]
  },
  {
   "cell_type": "code",
   "execution_count": 2,
   "outputs": [
    {
     "name": "stdout",
     "output_type": "stream",
     "text": [
      "Requirement already satisfied: tensorflow in /Users/beni/Documents/Kennwerte/IdeaProjects/cas_machine_learning_cifar10/venv/lib/python3.9/site-packages (2.6.0)\r\n",
      "Requirement already satisfied: tensorboard~=2.6 in /Users/beni/Documents/Kennwerte/IdeaProjects/cas_machine_learning_cifar10/venv/lib/python3.9/site-packages (from tensorflow) (2.6.0)\r\n",
      "Requirement already satisfied: astunparse~=1.6.3 in /Users/beni/Documents/Kennwerte/IdeaProjects/cas_machine_learning_cifar10/venv/lib/python3.9/site-packages (from tensorflow) (1.6.3)\r\n",
      "Requirement already satisfied: grpcio<2.0,>=1.37.0 in /Users/beni/Documents/Kennwerte/IdeaProjects/cas_machine_learning_cifar10/venv/lib/python3.9/site-packages (from tensorflow) (1.41.0)\r\n",
      "Requirement already satisfied: h5py~=3.1.0 in /Users/beni/Documents/Kennwerte/IdeaProjects/cas_machine_learning_cifar10/venv/lib/python3.9/site-packages (from tensorflow) (3.1.0)\r\n",
      "Requirement already satisfied: protobuf>=3.9.2 in /Users/beni/Documents/Kennwerte/IdeaProjects/cas_machine_learning_cifar10/venv/lib/python3.9/site-packages (from tensorflow) (3.18.0)\r\n",
      "Requirement already satisfied: keras-preprocessing~=1.1.2 in /Users/beni/Documents/Kennwerte/IdeaProjects/cas_machine_learning_cifar10/venv/lib/python3.9/site-packages (from tensorflow) (1.1.2)\r\n",
      "Requirement already satisfied: google-pasta~=0.2 in /Users/beni/Documents/Kennwerte/IdeaProjects/cas_machine_learning_cifar10/venv/lib/python3.9/site-packages (from tensorflow) (0.2.0)\r\n",
      "Requirement already satisfied: wrapt~=1.12.1 in /Users/beni/Documents/Kennwerte/IdeaProjects/cas_machine_learning_cifar10/venv/lib/python3.9/site-packages (from tensorflow) (1.12.1)\r\n",
      "Requirement already satisfied: opt-einsum~=3.3.0 in /Users/beni/Documents/Kennwerte/IdeaProjects/cas_machine_learning_cifar10/venv/lib/python3.9/site-packages (from tensorflow) (3.3.0)\r\n",
      "Requirement already satisfied: keras~=2.6 in /Users/beni/Documents/Kennwerte/IdeaProjects/cas_machine_learning_cifar10/venv/lib/python3.9/site-packages (from tensorflow) (2.6.0)\r\n",
      "Requirement already satisfied: flatbuffers~=1.12.0 in /Users/beni/Documents/Kennwerte/IdeaProjects/cas_machine_learning_cifar10/venv/lib/python3.9/site-packages (from tensorflow) (1.12)\r\n",
      "Requirement already satisfied: typing-extensions~=3.7.4 in /Users/beni/Documents/Kennwerte/IdeaProjects/cas_machine_learning_cifar10/venv/lib/python3.9/site-packages (from tensorflow) (3.7.4.3)\r\n",
      "Requirement already satisfied: termcolor~=1.1.0 in /Users/beni/Documents/Kennwerte/IdeaProjects/cas_machine_learning_cifar10/venv/lib/python3.9/site-packages (from tensorflow) (1.1.0)\r\n",
      "Requirement already satisfied: clang~=5.0 in /Users/beni/Documents/Kennwerte/IdeaProjects/cas_machine_learning_cifar10/venv/lib/python3.9/site-packages (from tensorflow) (5.0)\r\n",
      "Requirement already satisfied: gast==0.4.0 in /Users/beni/Documents/Kennwerte/IdeaProjects/cas_machine_learning_cifar10/venv/lib/python3.9/site-packages (from tensorflow) (0.4.0)\r\n",
      "Requirement already satisfied: numpy~=1.19.2 in /Users/beni/Documents/Kennwerte/IdeaProjects/cas_machine_learning_cifar10/venv/lib/python3.9/site-packages (from tensorflow) (1.19.5)\r\n",
      "Requirement already satisfied: six~=1.15.0 in /Users/beni/Documents/Kennwerte/IdeaProjects/cas_machine_learning_cifar10/venv/lib/python3.9/site-packages (from tensorflow) (1.15.0)\r\n",
      "Requirement already satisfied: wheel~=0.35 in /Users/beni/Documents/Kennwerte/IdeaProjects/cas_machine_learning_cifar10/venv/lib/python3.9/site-packages (from tensorflow) (0.36.2)\r\n",
      "Requirement already satisfied: absl-py~=0.10 in /Users/beni/Documents/Kennwerte/IdeaProjects/cas_machine_learning_cifar10/venv/lib/python3.9/site-packages (from tensorflow) (0.14.1)\r\n",
      "Requirement already satisfied: tensorflow-estimator~=2.6 in /Users/beni/Documents/Kennwerte/IdeaProjects/cas_machine_learning_cifar10/venv/lib/python3.9/site-packages (from tensorflow) (2.6.0)\r\n",
      "Requirement already satisfied: requests<3,>=2.21.0 in /Users/beni/Documents/Kennwerte/IdeaProjects/cas_machine_learning_cifar10/venv/lib/python3.9/site-packages (from tensorboard~=2.6->tensorflow) (2.26.0)\r\n",
      "Requirement already satisfied: tensorboard-data-server<0.7.0,>=0.6.0 in /Users/beni/Documents/Kennwerte/IdeaProjects/cas_machine_learning_cifar10/venv/lib/python3.9/site-packages (from tensorboard~=2.6->tensorflow) (0.6.1)\r\n",
      "Requirement already satisfied: google-auth-oauthlib<0.5,>=0.4.1 in /Users/beni/Documents/Kennwerte/IdeaProjects/cas_machine_learning_cifar10/venv/lib/python3.9/site-packages (from tensorboard~=2.6->tensorflow) (0.4.6)\r\n",
      "Requirement already satisfied: werkzeug>=0.11.15 in /Users/beni/Documents/Kennwerte/IdeaProjects/cas_machine_learning_cifar10/venv/lib/python3.9/site-packages (from tensorboard~=2.6->tensorflow) (2.0.1)\r\n",
      "Requirement already satisfied: google-auth<2,>=1.6.3 in /Users/beni/Documents/Kennwerte/IdeaProjects/cas_machine_learning_cifar10/venv/lib/python3.9/site-packages (from tensorboard~=2.6->tensorflow) (1.35.0)\r\n",
      "Requirement already satisfied: markdown>=2.6.8 in /Users/beni/Documents/Kennwerte/IdeaProjects/cas_machine_learning_cifar10/venv/lib/python3.9/site-packages (from tensorboard~=2.6->tensorflow) (3.3.4)\r\n",
      "Requirement already satisfied: setuptools>=41.0.0 in /Users/beni/Documents/Kennwerte/IdeaProjects/cas_machine_learning_cifar10/venv/lib/python3.9/site-packages (from tensorboard~=2.6->tensorflow) (57.0.0)\r\n",
      "Requirement already satisfied: tensorboard-plugin-wit>=1.6.0 in /Users/beni/Documents/Kennwerte/IdeaProjects/cas_machine_learning_cifar10/venv/lib/python3.9/site-packages (from tensorboard~=2.6->tensorflow) (1.8.0)\r\n",
      "Requirement already satisfied: pyasn1-modules>=0.2.1 in /Users/beni/Documents/Kennwerte/IdeaProjects/cas_machine_learning_cifar10/venv/lib/python3.9/site-packages (from google-auth<2,>=1.6.3->tensorboard~=2.6->tensorflow) (0.2.8)\r\n",
      "Requirement already satisfied: cachetools<5.0,>=2.0.0 in /Users/beni/Documents/Kennwerte/IdeaProjects/cas_machine_learning_cifar10/venv/lib/python3.9/site-packages (from google-auth<2,>=1.6.3->tensorboard~=2.6->tensorflow) (4.2.4)\r\n",
      "Requirement already satisfied: rsa<5,>=3.1.4 in /Users/beni/Documents/Kennwerte/IdeaProjects/cas_machine_learning_cifar10/venv/lib/python3.9/site-packages (from google-auth<2,>=1.6.3->tensorboard~=2.6->tensorflow) (4.7.2)\r\n",
      "Requirement already satisfied: requests-oauthlib>=0.7.0 in /Users/beni/Documents/Kennwerte/IdeaProjects/cas_machine_learning_cifar10/venv/lib/python3.9/site-packages (from google-auth-oauthlib<0.5,>=0.4.1->tensorboard~=2.6->tensorflow) (1.3.0)\r\n",
      "Requirement already satisfied: pyasn1<0.5.0,>=0.4.6 in /Users/beni/Documents/Kennwerte/IdeaProjects/cas_machine_learning_cifar10/venv/lib/python3.9/site-packages (from pyasn1-modules>=0.2.1->google-auth<2,>=1.6.3->tensorboard~=2.6->tensorflow) (0.4.8)\r\n",
      "Requirement already satisfied: certifi>=2017.4.17 in /Users/beni/Documents/Kennwerte/IdeaProjects/cas_machine_learning_cifar10/venv/lib/python3.9/site-packages (from requests<3,>=2.21.0->tensorboard~=2.6->tensorflow) (2021.5.30)\r\n",
      "Requirement already satisfied: idna<4,>=2.5 in /Users/beni/Documents/Kennwerte/IdeaProjects/cas_machine_learning_cifar10/venv/lib/python3.9/site-packages (from requests<3,>=2.21.0->tensorboard~=2.6->tensorflow) (3.2)\r\n",
      "Requirement already satisfied: charset-normalizer~=2.0.0 in /Users/beni/Documents/Kennwerte/IdeaProjects/cas_machine_learning_cifar10/venv/lib/python3.9/site-packages (from requests<3,>=2.21.0->tensorboard~=2.6->tensorflow) (2.0.6)\r\n",
      "Requirement already satisfied: urllib3<1.27,>=1.21.1 in /Users/beni/Documents/Kennwerte/IdeaProjects/cas_machine_learning_cifar10/venv/lib/python3.9/site-packages (from requests<3,>=2.21.0->tensorboard~=2.6->tensorflow) (1.26.7)\r\n",
      "Requirement already satisfied: oauthlib>=3.0.0 in /Users/beni/Documents/Kennwerte/IdeaProjects/cas_machine_learning_cifar10/venv/lib/python3.9/site-packages (from requests-oauthlib>=0.7.0->google-auth-oauthlib<0.5,>=0.4.1->tensorboard~=2.6->tensorflow) (3.1.1)\r\n",
      "\u001B[33mWARNING: You are using pip version 21.1.2; however, version 21.3.1 is available.\r\n",
      "You should consider upgrading via the '/Users/beni/Documents/Kennwerte/IdeaProjects/cas_machine_learning_cifar10/venv/bin/python -m pip install --upgrade pip' command.\u001B[0m\r\n",
      "Collecting gluoncv\r\n",
      "  Using cached gluoncv-0.10.4.post4-py2.py3-none-any.whl (1.3 MB)\r\n",
      "Collecting autocfg\r\n",
      "  Using cached autocfg-0.0.8-py3-none-any.whl (13 kB)\r\n",
      "Requirement already satisfied: requests in /Users/beni/Documents/Kennwerte/IdeaProjects/cas_machine_learning_cifar10/venv/lib/python3.9/site-packages (from gluoncv) (2.26.0)\r\n",
      "Requirement already satisfied: scipy in /Users/beni/Documents/Kennwerte/IdeaProjects/cas_machine_learning_cifar10/venv/lib/python3.9/site-packages (from gluoncv) (1.7.1)\r\n",
      "Requirement already satisfied: Pillow in /Users/beni/Documents/Kennwerte/IdeaProjects/cas_machine_learning_cifar10/venv/lib/python3.9/site-packages (from gluoncv) (8.3.2)\r\n",
      "Requirement already satisfied: opencv-python in /Users/beni/Documents/Kennwerte/IdeaProjects/cas_machine_learning_cifar10/venv/lib/python3.9/site-packages (from gluoncv) (4.5.3.56)\r\n",
      "Collecting portalocker\r\n",
      "  Using cached portalocker-2.3.2-py2.py3-none-any.whl (15 kB)\r\n",
      "Collecting yacs\r\n",
      "  Using cached yacs-0.1.8-py3-none-any.whl (14 kB)\r\n",
      "Requirement already satisfied: pandas in /Users/beni/Documents/Kennwerte/IdeaProjects/cas_machine_learning_cifar10/venv/lib/python3.9/site-packages (from gluoncv) (1.3.3)\r\n",
      "Collecting tqdm\r\n",
      "  Downloading tqdm-4.62.3-py2.py3-none-any.whl (76 kB)\r\n",
      "\u001B[K     |████████████████████████████████| 76 kB 2.9 MB/s eta 0:00:011\r\n",
      "\u001B[?25hRequirement already satisfied: matplotlib in /Users/beni/Documents/Kennwerte/IdeaProjects/cas_machine_learning_cifar10/venv/lib/python3.9/site-packages (from gluoncv) (3.4.3)\r\n",
      "Collecting pyyaml\r\n",
      "  Downloading PyYAML-6.0-cp39-cp39-macosx_10_9_x86_64.whl (197 kB)\r\n",
      "\u001B[K     |████████████████████████████████| 197 kB 5.2 MB/s eta 0:00:01\r\n",
      "\u001B[?25hRequirement already satisfied: numpy in /Users/beni/Documents/Kennwerte/IdeaProjects/cas_machine_learning_cifar10/venv/lib/python3.9/site-packages (from gluoncv) (1.19.5)\r\n",
      "Requirement already satisfied: kiwisolver>=1.0.1 in /Users/beni/Documents/Kennwerte/IdeaProjects/cas_machine_learning_cifar10/venv/lib/python3.9/site-packages (from matplotlib->gluoncv) (1.3.2)\r\n",
      "Requirement already satisfied: python-dateutil>=2.7 in /Users/beni/Documents/Kennwerte/IdeaProjects/cas_machine_learning_cifar10/venv/lib/python3.9/site-packages (from matplotlib->gluoncv) (2.8.2)\r\n",
      "Requirement already satisfied: pyparsing>=2.2.1 in /Users/beni/Documents/Kennwerte/IdeaProjects/cas_machine_learning_cifar10/venv/lib/python3.9/site-packages (from matplotlib->gluoncv) (2.4.7)\r\n",
      "Requirement already satisfied: cycler>=0.10 in /Users/beni/Documents/Kennwerte/IdeaProjects/cas_machine_learning_cifar10/venv/lib/python3.9/site-packages (from matplotlib->gluoncv) (0.10.0)\r\n",
      "Requirement already satisfied: six in /Users/beni/Documents/Kennwerte/IdeaProjects/cas_machine_learning_cifar10/venv/lib/python3.9/site-packages (from cycler>=0.10->matplotlib->gluoncv) (1.15.0)\r\n",
      "Requirement already satisfied: pytz>=2017.3 in /Users/beni/Documents/Kennwerte/IdeaProjects/cas_machine_learning_cifar10/venv/lib/python3.9/site-packages (from pandas->gluoncv) (2021.1)\r\n",
      "Requirement already satisfied: idna<4,>=2.5 in /Users/beni/Documents/Kennwerte/IdeaProjects/cas_machine_learning_cifar10/venv/lib/python3.9/site-packages (from requests->gluoncv) (3.2)\r\n",
      "Requirement already satisfied: certifi>=2017.4.17 in /Users/beni/Documents/Kennwerte/IdeaProjects/cas_machine_learning_cifar10/venv/lib/python3.9/site-packages (from requests->gluoncv) (2021.5.30)\r\n",
      "Requirement already satisfied: urllib3<1.27,>=1.21.1 in /Users/beni/Documents/Kennwerte/IdeaProjects/cas_machine_learning_cifar10/venv/lib/python3.9/site-packages (from requests->gluoncv) (1.26.7)\r\n",
      "Requirement already satisfied: charset-normalizer~=2.0.0 in /Users/beni/Documents/Kennwerte/IdeaProjects/cas_machine_learning_cifar10/venv/lib/python3.9/site-packages (from requests->gluoncv) (2.0.6)\r\n",
      "Installing collected packages: pyyaml, yacs, tqdm, portalocker, autocfg, gluoncv\r\n",
      "Successfully installed autocfg-0.0.8 gluoncv-0.10.4.post4 portalocker-2.3.2 pyyaml-6.0 tqdm-4.62.3 yacs-0.1.8\r\n",
      "\u001B[33mWARNING: You are using pip version 21.1.2; however, version 21.3.1 is available.\r\n",
      "You should consider upgrading via the '/Users/beni/Documents/Kennwerte/IdeaProjects/cas_machine_learning_cifar10/venv/bin/python -m pip install --upgrade pip' command.\u001B[0m\r\n"
     ]
    }
   ],
   "source": [
    "!pip install tensorflow\n",
    "!pip install gluoncv"
   ],
   "metadata": {
    "collapsed": false,
    "pycharm": {
     "name": "#%%\n"
    }
   }
  },
  {
   "cell_type": "code",
   "execution_count": 3,
   "outputs": [],
   "source": [
    "class_names = {'plane':0, 'car':1, 'bird':2, 'cat':3, 'deer':4,\n",
    "               'dog':5, 'frog':6, 'horse':7, 'ship':8, 'truck':9}"
   ],
   "metadata": {
    "collapsed": false,
    "pycharm": {
     "name": "#%%\n"
    }
   }
  },
  {
   "cell_type": "code",
   "execution_count": 4,
   "outputs": [],
   "source": [
    "from experiments.util import load_test\n",
    "\n",
    "X_test, y_test = load_test()"
   ],
   "metadata": {
    "collapsed": false,
    "pycharm": {
     "name": "#%%\n"
    }
   }
  },
  {
   "cell_type": "markdown",
   "source": [
    "#### Use pretrained model (on CIFAR 10)"
   ],
   "metadata": {
    "collapsed": false
   }
  },
  {
   "cell_type": "markdown",
   "source": [
    "##### ResNet110"
   ],
   "metadata": {
    "collapsed": false
   }
  },
  {
   "cell_type": "code",
   "execution_count": 5,
   "outputs": [
    {
     "name": "stdout",
     "output_type": "stream",
     "text": [
      "0.9554\n"
     ]
    }
   ],
   "source": [
    "from mxnet.gluon.data.vision import transforms\n",
    "\n",
    "import mxnet as mx\n",
    "from gluoncv.model_zoo import get_model\n",
    "\n",
    "ctx = [mx.cpu(0)]\n",
    "\n",
    "# Get the model CIFAR_ResNet20_v1, with 10 output classes, without pre-trained weights\n",
    "net = get_model('cifar_resnet110_v2', pretrained=True, classes=10)\n",
    "\n",
    "transform_test = transforms.Compose([\n",
    "    transforms.ToTensor(),\n",
    "    transforms.Normalize([0.4914, 0.4822, 0.4465], [0.2023, 0.1994, 0.2010])\n",
    "])\n",
    "\n",
    "y_test_hat_prob = net(transform_test(mx.ndarray.array(X_test)))\n",
    "\n",
    "y_test_hat = np.argmax(y_test_hat_prob.asnumpy(), axis=1)\n",
    "\n",
    "y_test_enc = np.vectorize(class_names.get)(y_test)\n",
    "\n",
    "print(accuracy_score(y_test_hat, y_test_enc))"
   ],
   "metadata": {
    "collapsed": false,
    "pycharm": {
     "name": "#%%\n"
    }
   }
  }
 ],
 "metadata": {
  "kernelspec": {
   "display_name": "Python 3",
   "language": "python",
   "name": "python3"
  },
  "language_info": {
   "codemirror_mode": {
    "name": "ipython",
    "version": 2
   },
   "file_extension": ".py",
   "mimetype": "text/x-python",
   "name": "python",
   "nbconvert_exporter": "python",
   "pygments_lexer": "ipython2",
   "version": "2.7.6"
  }
 },
 "nbformat": 4,
 "nbformat_minor": 0
}