{
 "cells": [
  {
   "cell_type": "code",
   "execution_count": 1,
   "metadata": {
    "pycharm": {
     "name": "#%%\n"
    }
   },
   "outputs": [
    {
     "name": "stdout",
     "output_type": "stream",
     "text": [
      "WARNING: pip is being invoked by an old script wrapper. This will fail in a future version of pip.\n",
      "Please see https://github.com/pypa/pip/issues/5599 for advice on fixing the underlying issue.\n",
      "To avoid this problem you can invoke Python with '-m pip' instead of running pip directly.\n",
      "Defaulting to user installation because normal site-packages is not writeable\n",
      "Collecting mxnet\n",
      "  Downloading mxnet-1.8.0.post0-py2.py3-none-manylinux2014_x86_64.whl (46.9 MB)\n",
      "\u001b[K     |████████████████████████████████| 46.9 MB 6.3 MB/s eta 0:00:01     |██████████████                  | 20.6 MB 4.6 MB/s eta 0:00:06     |█████████████████████████▎      | 37.0 MB 7.4 MB/s eta 0:00:02     |█████████████████████████▌      | 37.3 MB 7.4 MB/s eta 0:00:02\n",
      "\u001b[?25hRequirement already satisfied: numpy<2.0.0,>1.16.0 in /home/belinda/.local/lib/python3.6/site-packages (from mxnet) (1.19.5)\n",
      "Requirement already satisfied: requests<3,>=2.20.0 in /home/belinda/.local/lib/python3.6/site-packages (from mxnet) (2.25.0)\n",
      "Collecting graphviz<0.9.0,>=0.8.1\n",
      "  Using cached graphviz-0.8.4-py2.py3-none-any.whl (16 kB)\n",
      "Requirement already satisfied: urllib3<1.27,>=1.21.1 in /usr/lib/python3/dist-packages (from requests<3,>=2.20.0->mxnet) (1.22)\n",
      "Requirement already satisfied: chardet<4,>=3.0.2 in /usr/lib/python3/dist-packages (from requests<3,>=2.20.0->mxnet) (3.0.4)\n",
      "Requirement already satisfied: certifi>=2017.4.17 in /usr/lib/python3/dist-packages (from requests<3,>=2.20.0->mxnet) (2018.1.18)\n",
      "Requirement already satisfied: idna<3,>=2.5 in /usr/lib/python3/dist-packages (from requests<3,>=2.20.0->mxnet) (2.6)\n",
      "Installing collected packages: graphviz, mxnet\n",
      "  Attempting uninstall: graphviz\n",
      "    Found existing installation: graphviz 0.16\n",
      "    Uninstalling graphviz-0.16:\n",
      "      Successfully uninstalled graphviz-0.16\n",
      "Successfully installed graphviz-0.8.4 mxnet-1.8.0.post0\n",
      "\u001b[33mWARNING: You are using pip version 20.0.2; however, version 21.3.1 is available.\n",
      "You should consider upgrading via the '/usr/bin/python3 -m pip install --upgrade pip' command.\u001b[0m\n"
     ]
    }
   ],
   "source": [
    "!pip install mxnet"
   ]
  },
  {
   "cell_type": "markdown",
   "metadata": {
    "pycharm": {
     "name": "#%% md\n"
    }
   },
   "source": [
    "# Vortrainiertes Modell\n",
    "\n",
    "Hier verwenden wir ein bereits trainiertes, komplexes Convolutional Neural Network.\n",
    "\n",
    "Das Netzwerk wurde auf dem CIFAR-10 Datensatz trainiert.\n",
    "\n",
    "Es geht hier mehrheitlich darum, aufzuzeigen, wozu grosse CNNs bei **grossen Bilddatensätzen** in der Lage sind."
   ]
  },
  {
   "cell_type": "code",
   "execution_count": 2,
   "metadata": {
    "jupyter": {
     "outputs_hidden": false
    },
    "pycharm": {
     "name": "#%%\n"
    }
   },
   "outputs": [],
   "source": [
    "import numpy as np\n",
    "\n",
    "from sklearn.metrics import accuracy_score\n",
    "\n",
    "import pandas as pd\n",
    "import pickle"
   ]
  },
  {
   "cell_type": "code",
   "execution_count": 3,
   "metadata": {
    "jupyter": {
     "outputs_hidden": false
    },
    "pycharm": {
     "name": "#%%\n"
    }
   },
   "outputs": [
    {
     "name": "stdout",
     "output_type": "stream",
     "text": [
      "WARNING: pip is being invoked by an old script wrapper. This will fail in a future version of pip.\n",
      "Please see https://github.com/pypa/pip/issues/5599 for advice on fixing the underlying issue.\n",
      "To avoid this problem you can invoke Python with '-m pip' instead of running pip directly.\n",
      "Defaulting to user installation because normal site-packages is not writeable\n",
      "Requirement already satisfied: tensorflow in /home/belinda/.local/lib/python3.6/site-packages (2.6.0)\n",
      "Requirement already satisfied: keras~=2.6 in /home/belinda/.local/lib/python3.6/site-packages (from tensorflow) (2.6.0)\n",
      "Requirement already satisfied: opt-einsum~=3.3.0 in /home/belinda/.local/lib/python3.6/site-packages (from tensorflow) (3.3.0)\n",
      "Requirement already satisfied: keras-preprocessing~=1.1.2 in /home/belinda/.local/lib/python3.6/site-packages (from tensorflow) (1.1.2)\n",
      "Requirement already satisfied: wrapt~=1.12.1 in /home/belinda/.local/lib/python3.6/site-packages (from tensorflow) (1.12.1)\n",
      "Requirement already satisfied: grpcio<2.0,>=1.37.0 in /home/belinda/.local/lib/python3.6/site-packages (from tensorflow) (1.41.1)\n",
      "Requirement already satisfied: absl-py~=0.10 in /home/belinda/.local/lib/python3.6/site-packages (from tensorflow) (0.15.0)\n",
      "Requirement already satisfied: termcolor~=1.1.0 in /home/belinda/.local/lib/python3.6/site-packages (from tensorflow) (1.1.0)\n",
      "Requirement already satisfied: typing-extensions~=3.7.4 in /home/belinda/.local/lib/python3.6/site-packages (from tensorflow) (3.7.4.3)\n",
      "Requirement already satisfied: wheel~=0.35 in /home/belinda/.local/lib/python3.6/site-packages (from tensorflow) (0.37.0)\n",
      "Requirement already satisfied: six~=1.15.0 in /home/belinda/.local/lib/python3.6/site-packages (from tensorflow) (1.15.0)\n",
      "Requirement already satisfied: tensorboard~=2.6 in /home/belinda/.local/lib/python3.6/site-packages (from tensorflow) (2.7.0)\n",
      "Requirement already satisfied: tensorflow-estimator~=2.6 in /home/belinda/.local/lib/python3.6/site-packages (from tensorflow) (2.7.0)\n",
      "Requirement already satisfied: google-pasta~=0.2 in /home/belinda/.local/lib/python3.6/site-packages (from tensorflow) (0.2.0)\n",
      "Requirement already satisfied: protobuf>=3.9.2 in /home/belinda/.local/lib/python3.6/site-packages (from tensorflow) (3.10.0)\n",
      "Requirement already satisfied: astunparse~=1.6.3 in /home/belinda/.local/lib/python3.6/site-packages (from tensorflow) (1.6.3)\n",
      "Requirement already satisfied: numpy~=1.19.2 in /home/belinda/.local/lib/python3.6/site-packages (from tensorflow) (1.19.5)\n",
      "Requirement already satisfied: flatbuffers~=1.12.0 in /home/belinda/.local/lib/python3.6/site-packages (from tensorflow) (1.12)\n",
      "Requirement already satisfied: h5py~=3.1.0 in /home/belinda/.local/lib/python3.6/site-packages (from tensorflow) (3.1.0)\n",
      "Requirement already satisfied: gast==0.4.0 in /home/belinda/.local/lib/python3.6/site-packages (from tensorflow) (0.4.0)\n",
      "Requirement already satisfied: clang~=5.0 in /home/belinda/.local/lib/python3.6/site-packages (from tensorflow) (5.0)\n",
      "Requirement already satisfied: markdown>=2.6.8 in /home/belinda/.local/lib/python3.6/site-packages (from tensorboard~=2.6->tensorflow) (3.1.1)\n",
      "Requirement already satisfied: google-auth<3,>=1.6.3 in /home/belinda/.local/lib/python3.6/site-packages (from tensorboard~=2.6->tensorflow) (2.3.3)\n",
      "Requirement already satisfied: tensorboard-data-server<0.7.0,>=0.6.0 in /home/belinda/.local/lib/python3.6/site-packages (from tensorboard~=2.6->tensorflow) (0.6.1)\n",
      "Requirement already satisfied: tensorboard-plugin-wit>=1.6.0 in /home/belinda/.local/lib/python3.6/site-packages (from tensorboard~=2.6->tensorflow) (1.8.0)\n",
      "Requirement already satisfied: google-auth-oauthlib<0.5,>=0.4.1 in /home/belinda/.local/lib/python3.6/site-packages (from tensorboard~=2.6->tensorflow) (0.4.6)\n",
      "Requirement already satisfied: setuptools>=41.0.0 in /home/belinda/.local/lib/python3.6/site-packages (from tensorboard~=2.6->tensorflow) (41.5.1)\n",
      "Requirement already satisfied: werkzeug>=0.11.15 in /home/belinda/.local/lib/python3.6/site-packages (from tensorboard~=2.6->tensorflow) (0.16.0)\n",
      "Requirement already satisfied: requests<3,>=2.21.0 in /home/belinda/.local/lib/python3.6/site-packages (from tensorboard~=2.6->tensorflow) (2.25.0)\n",
      "Requirement already satisfied: cached-property; python_version < \"3.8\" in /home/belinda/.local/lib/python3.6/site-packages (from h5py~=3.1.0->tensorflow) (1.5.2)\n",
      "Requirement already satisfied: cachetools<5.0,>=2.0.0 in /home/belinda/.local/lib/python3.6/site-packages (from google-auth<3,>=1.6.3->tensorboard~=2.6->tensorflow) (4.2.4)\n",
      "Requirement already satisfied: pyasn1-modules>=0.2.1 in /home/belinda/.local/lib/python3.6/site-packages (from google-auth<3,>=1.6.3->tensorboard~=2.6->tensorflow) (0.2.8)\n",
      "Requirement already satisfied: rsa<5,>=3.1.4; python_version >= \"3.6\" in /home/belinda/.local/lib/python3.6/site-packages (from google-auth<3,>=1.6.3->tensorboard~=2.6->tensorflow) (4.7.2)\n",
      "Requirement already satisfied: requests-oauthlib>=0.7.0 in /home/belinda/.local/lib/python3.6/site-packages (from google-auth-oauthlib<0.5,>=0.4.1->tensorboard~=2.6->tensorflow) (1.3.0)\n",
      "Requirement already satisfied: idna<3,>=2.5 in /usr/lib/python3/dist-packages (from requests<3,>=2.21.0->tensorboard~=2.6->tensorflow) (2.6)\n",
      "Requirement already satisfied: chardet<4,>=3.0.2 in /usr/lib/python3/dist-packages (from requests<3,>=2.21.0->tensorboard~=2.6->tensorflow) (3.0.4)\n",
      "Requirement already satisfied: certifi>=2017.4.17 in /usr/lib/python3/dist-packages (from requests<3,>=2.21.0->tensorboard~=2.6->tensorflow) (2018.1.18)\n",
      "Requirement already satisfied: urllib3<1.27,>=1.21.1 in /usr/lib/python3/dist-packages (from requests<3,>=2.21.0->tensorboard~=2.6->tensorflow) (1.22)\n",
      "Requirement already satisfied: pyasn1<0.5.0,>=0.4.6 in /home/belinda/.local/lib/python3.6/site-packages (from pyasn1-modules>=0.2.1->google-auth<3,>=1.6.3->tensorboard~=2.6->tensorflow) (0.4.8)\n",
      "Requirement already satisfied: oauthlib>=3.0.0 in /home/belinda/.local/lib/python3.6/site-packages (from requests-oauthlib>=0.7.0->google-auth-oauthlib<0.5,>=0.4.1->tensorboard~=2.6->tensorflow) (3.1.1)\n",
      "\u001b[33mWARNING: You are using pip version 20.0.2; however, version 21.3.1 is available.\n",
      "You should consider upgrading via the '/usr/bin/python3 -m pip install --upgrade pip' command.\u001b[0m\n",
      "WARNING: pip is being invoked by an old script wrapper. This will fail in a future version of pip.\n",
      "Please see https://github.com/pypa/pip/issues/5599 for advice on fixing the underlying issue.\n",
      "To avoid this problem you can invoke Python with '-m pip' instead of running pip directly.\n",
      "Defaulting to user installation because normal site-packages is not writeable\n",
      "Requirement already satisfied: gluoncv in /home/belinda/.local/lib/python3.6/site-packages (0.10.4.post4)\n",
      "Requirement already satisfied: tqdm in /home/belinda/.local/lib/python3.6/site-packages (from gluoncv) (4.51.0)\n",
      "Requirement already satisfied: requests in /home/belinda/.local/lib/python3.6/site-packages (from gluoncv) (2.25.0)\n",
      "Requirement already satisfied: matplotlib in /home/belinda/.local/lib/python3.6/site-packages (from gluoncv) (3.3.3)\n",
      "Requirement already satisfied: scipy in /home/belinda/.local/lib/python3.6/site-packages (from gluoncv) (1.5.4)\n",
      "Requirement already satisfied: opencv-python in /home/belinda/.local/lib/python3.6/site-packages (from gluoncv) (4.5.4.58)\n",
      "Requirement already satisfied: autocfg in /home/belinda/.local/lib/python3.6/site-packages (from gluoncv) (0.0.8)\n",
      "Requirement already satisfied: Pillow in /home/belinda/.local/lib/python3.6/site-packages (from gluoncv) (6.2.1)\n",
      "Requirement already satisfied: yacs in /home/belinda/.local/lib/python3.6/site-packages (from gluoncv) (0.1.8)\n",
      "Requirement already satisfied: pandas in /usr/local/lib/python3.6/dist-packages (from gluoncv) (0.25.3)\n",
      "Requirement already satisfied: numpy in /home/belinda/.local/lib/python3.6/site-packages (from gluoncv) (1.19.5)\n",
      "Requirement already satisfied: portalocker in /home/belinda/.local/lib/python3.6/site-packages (from gluoncv) (2.3.2)\n",
      "Requirement already satisfied: pyyaml in /home/belinda/.local/lib/python3.6/site-packages (from gluoncv) (5.1.2)\n",
      "Requirement already satisfied: urllib3<1.27,>=1.21.1 in /usr/lib/python3/dist-packages (from requests->gluoncv) (1.22)\n",
      "Requirement already satisfied: idna<3,>=2.5 in /usr/lib/python3/dist-packages (from requests->gluoncv) (2.6)\n",
      "Requirement already satisfied: certifi>=2017.4.17 in /usr/lib/python3/dist-packages (from requests->gluoncv) (2018.1.18)\n",
      "Requirement already satisfied: chardet<4,>=3.0.2 in /usr/lib/python3/dist-packages (from requests->gluoncv) (3.0.4)\n",
      "Requirement already satisfied: pyparsing!=2.0.4,!=2.1.2,!=2.1.6,>=2.0.3 in /home/belinda/.local/lib/python3.6/site-packages (from matplotlib->gluoncv) (2.4.2)\n",
      "Requirement already satisfied: kiwisolver>=1.0.1 in /home/belinda/.local/lib/python3.6/site-packages (from matplotlib->gluoncv) (1.1.0)\n"
     ]
    },
    {
     "name": "stdout",
     "output_type": "stream",
     "text": [
      "Requirement already satisfied: cycler>=0.10 in /home/belinda/.local/lib/python3.6/site-packages (from matplotlib->gluoncv) (0.10.0)\n",
      "Requirement already satisfied: python-dateutil>=2.1 in /home/belinda/.local/lib/python3.6/site-packages (from matplotlib->gluoncv) (2.8.0)\n",
      "Requirement already satisfied: dataclasses; python_version < \"3.7\" in /home/belinda/.local/lib/python3.6/site-packages (from autocfg->gluoncv) (0.8)\n",
      "Requirement already satisfied: pytz>=2017.2 in /usr/lib/python3/dist-packages (from pandas->gluoncv) (2018.3)\n",
      "Requirement already satisfied: setuptools in /home/belinda/.local/lib/python3.6/site-packages (from kiwisolver>=1.0.1->matplotlib->gluoncv) (41.5.1)\n",
      "Requirement already satisfied: six in /home/belinda/.local/lib/python3.6/site-packages (from cycler>=0.10->matplotlib->gluoncv) (1.15.0)\n",
      "\u001b[33mWARNING: You are using pip version 20.0.2; however, version 21.3.1 is available.\n",
      "You should consider upgrading via the '/usr/bin/python3 -m pip install --upgrade pip' command.\u001b[0m\n"
     ]
    }
   ],
   "source": [
    "!pip install tensorflow\n",
    "!pip install gluoncv"
   ]
  },
  {
   "cell_type": "code",
   "execution_count": 4,
   "metadata": {
    "jupyter": {
     "outputs_hidden": false
    },
    "pycharm": {
     "name": "#%%\n"
    }
   },
   "outputs": [],
   "source": [
    "# Class mapping from pretrained model\n",
    "class_names = {\n",
    "    0:'plane',\n",
    "    1:'car',\n",
    "    2:'bird',\n",
    "    3:'cat',\n",
    "    4:'deer',\n",
    "    5:'dog',\n",
    "    6:'frog',\n",
    "    7:'horse',\n",
    "    8:'ship',\n",
    "    9:'truck'\n",
    "}"
   ]
  },
  {
   "cell_type": "markdown",
   "metadata": {},
   "source": [
    "## ResNet110 - Use pretrained model (on CIFAR 10)\n",
    "\n",
    "Wir laden das bereits trainierte Netzwerk mittels der `mxnet` Library.\n",
    "\n",
    "Wir müssen das Modell **nicht mehr trainieren** und laden es hier nur.\n",
    "\n",
    "Das verwendete Modell ist eine Implementierung von diesem Paper: https://arxiv.org/abs/1603.05027"
   ]
  },
  {
   "cell_type": "code",
   "execution_count": 5,
   "metadata": {
    "jupyter": {
     "outputs_hidden": false
    },
    "pycharm": {
     "name": "#%%\n"
    }
   },
   "outputs": [
    {
     "name": "stdout",
     "output_type": "stream",
     "text": [
      "Downloading /home/belinda/.mxnet/models/cifar_resnet110_v2-bf160f8b.zip from https://apache-mxnet.s3-accelerate.dualstack.amazonaws.com/gluon/models/cifar_resnet110_v2-bf160f8b.zip...\n"
     ]
    },
    {
     "name": "stderr",
     "output_type": "stream",
     "text": [
      "6326KB [00:01, 3479.49KB/s]                          \n"
     ]
    }
   ],
   "source": [
    "from mxnet.gluon.data.vision import transforms\n",
    "\n",
    "import mxnet as mx\n",
    "from gluoncv.model_zoo import get_model\n",
    "\n",
    "ctx = [mx.cpu(0)]\n",
    "\n",
    "# Get the model CIFAR_ResNet20_v1, with 10 output classes, without pre-trained weights\n",
    "net = get_model('cifar_resnet110_v2', pretrained=True, classes=10)\n",
    "\n",
    "transform_test = transforms.Compose([\n",
    "    transforms.ToTensor(),\n",
    "    transforms.Normalize([0.4914, 0.4822, 0.4465], [0.2023, 0.1994, 0.2010])  # Normalization ist analog wie bei Training des Netwerkes\n",
    "])"
   ]
  },
  {
   "cell_type": "markdown",
   "metadata": {},
   "source": [
    "# Anwendung des Modells auf dem Test Set\n",
    "\n",
    "Wenn wir mit der Leistung unseres Modells auf dem `Validation Set` zufrieden sind, können wir es auf das `Test Set` anwenden."
   ]
  },
  {
   "cell_type": "code",
   "execution_count": 6,
   "metadata": {
    "jupyter": {
     "outputs_hidden": false
    },
    "pycharm": {
     "name": "#%%\n"
    }
   },
   "outputs": [],
   "source": [
    "with open('../data/test.pkl', 'rb') as f:\n",
    "    X_test = pickle.load(f)"
   ]
  },
  {
   "cell_type": "code",
   "execution_count": 7,
   "metadata": {
    "jupyter": {
     "outputs_hidden": false
    },
    "pycharm": {
     "name": "#%%\n"
    }
   },
   "outputs": [
    {
     "name": "stdout",
     "output_type": "stream",
     "text": [
      "CPU times: user 3 µs, sys: 0 ns, total: 3 µs\n",
      "Wall time: 6.68 µs\n"
     ]
    }
   ],
   "source": [
    "%time\n",
    "\n",
    "y_test_pred_prob = net(transform_test(mx.ndarray.array(X_test)))\n",
    "\n",
    "y_test_pred = np.argmax(y_test_pred_prob.asnumpy(), axis=1)\n",
    "# Ziffern zurück zu Labels transformieren (die Reihenfolge ist vom Netz vorgegeben)  \n",
    "y_test_pred_enc = np.vectorize(class_names.get)(y_test_pred)\n",
    "\n",
    "y_test_pred_df = pd.DataFrame(y_test_pred_enc, columns=['label'])"
   ]
  },
  {
   "cell_type": "markdown",
   "metadata": {},
   "source": [
    "Um die Vorhersagen an Kaggle zu senden, schreiben wir sie in eine .csv-Datei, die Sie manuell übermitteln können."
   ]
  },
  {
   "cell_type": "code",
   "execution_count": 8,
   "metadata": {
    "jupyter": {
     "outputs_hidden": false
    },
    "pycharm": {
     "name": "#%%\n"
    }
   },
   "outputs": [],
   "source": [
    "y_test_pred_df.to_csv('../out/cnn_pretrained.csv', header=True, index_label='id')"
   ]
  }
 ],
 "metadata": {
  "kernelspec": {
   "display_name": "Python 3",
   "language": "python",
   "name": "python3"
  },
  "language_info": {
   "codemirror_mode": {
    "name": "ipython",
    "version": 3
   },
   "file_extension": ".py",
   "mimetype": "text/x-python",
   "name": "python",
   "nbconvert_exporter": "python",
   "pygments_lexer": "ipython3",
   "version": "3.6.9"
  }
 },
 "nbformat": 4,
 "nbformat_minor": 4
}
