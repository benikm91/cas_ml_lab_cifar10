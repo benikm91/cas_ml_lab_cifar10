{
 "cells": [
  {
   "cell_type": "code",
   "execution_count": 5,
   "metadata": {
    "collapsed": true
   },
   "outputs": [],
   "source": [
    "import numpy as np\n",
    "import pickle\n",
    "import pandas as pd\n",
    "\n",
    "from IPython.core.display import display"
   ]
  },
  {
   "cell_type": "code",
   "execution_count": 6,
   "outputs": [
    {
     "name": "stdout",
     "output_type": "stream",
     "text": [
      "['plane', 'car', 'bird', 'cat', 'deer', 'dog', 'frog', 'horse', 'ship', 'truck']\n"
     ]
    }
   ],
   "source": [
    "with open('../../raw_data/batches.meta', 'rb') as fo:\n",
    "    dict = pickle.load(fo, encoding='bytes')\n",
    "\n",
    "def shorten(v: str):\n",
    "    if v == 'airplane':\n",
    "        return 'plane'\n",
    "    if v == 'automobile':\n",
    "        return 'car'\n",
    "    return v\n",
    "\n",
    "label_names = [ shorten(v.decode(\"utf-8\")) for v in dict[b'label_names'] ]\n",
    "\n",
    "print(label_names)\n",
    "\n",
    "def unpickle(file):\n",
    "    with open(file, 'rb') as fo:\n",
    "        dict = pickle.load(fo, encoding='bytes')\n",
    "    return dict\n",
    "\n",
    "batch1 = unpickle(\"../../raw_data/data_batch_1\")\n",
    "batch2 = unpickle(\"../../raw_data/data_batch_2\")\n",
    "batch3 = unpickle(\"../../raw_data/data_batch_3\")\n",
    "batch4 = unpickle(\"../../raw_data/data_batch_4\")\n",
    "batch5 = unpickle(\"../../raw_data/data_batch_5\")\n",
    "test_batch = unpickle(\"../../raw_data/test_batch\")\n",
    "\n",
    "def load_data0(btch):\n",
    "    labels = btch[b'labels']\n",
    "    imgs = btch[b'data'].reshape((-1, 32, 32, 3))\n",
    "\n",
    "    res = []\n",
    "    for ii in range(imgs.shape[0]):\n",
    "        img = imgs[ii].copy()\n",
    "        #img = np.transpose(img.flatten().reshape(3,32,32))\n",
    "        img = np.fliplr(np.rot90(np.transpose(img.flatten().reshape(3,32,32)), k=-1))\n",
    "        res.append(img)\n",
    "    imgs = np.stack(res)\n",
    "    return labels, imgs\n",
    "\n",
    "def load_data():\n",
    "    X_train_l = []\n",
    "    y_train_l = []\n",
    "    for ibatch in [batch1, batch2, batch3, batch4, batch5]:\n",
    "        labels, imgs = load_data0(ibatch)\n",
    "        X_train_l.append(imgs)\n",
    "        y_train_l.extend(labels)\n",
    "    X_train = np.vstack(X_train_l)\n",
    "    y_train = np.vstack(y_train_l)\n",
    "\n",
    "    X_test_l = []\n",
    "    y_test_l = []\n",
    "    labels, imgs = load_data0(test_batch)\n",
    "    X_test_l.append(imgs)\n",
    "    y_test_l.extend(labels)\n",
    "    X_test = np.vstack(X_test_l)\n",
    "    y_test = np.vstack(y_test_l)\n",
    "\n",
    "\n",
    "    return (X_train, y_train), (X_test, y_test)\n",
    "\n",
    "(X_train, y_train), (X_test, y_test) = load_data()\n",
    "\n",
    "lookup_names = np.vectorize(lambda i: label_names[i])\n",
    "\n",
    "y_train = lookup_names(y_train)\n",
    "y_test = lookup_names(y_test)\n",
    "\n",
    "def wrap(X, y):\n",
    "    return {\n",
    "        'images': X,\n",
    "        'labels': y.reshape(-1)\n",
    "    }\n",
    "\n",
    "with open('../../data/train.pkl', 'wb') as fo:\n",
    "    pickle.dump(wrap(X_train, y_train), fo)\n",
    "\n",
    "with open('../../data/test_with_labels.pkl', 'wb') as fo:\n",
    "    pickle.dump(wrap(X_test, y_test), fo)\n",
    "\n",
    "with open('../../data/test.pkl', 'wb') as fo:\n",
    "    pickle.dump(X_test, fo)\n",
    "\n",
    "y_test_df = pd.DataFrame(y_test, columns=['label'])\n",
    "y_test_df.to_csv('../../data/test_labels.csv', header=True, index_label='id')\n"
   ],
   "metadata": {
    "collapsed": false,
    "pycharm": {
     "name": "#%%\n"
    }
   }
  }
 ],
 "metadata": {
  "kernelspec": {
   "display_name": "Python 3",
   "language": "python",
   "name": "python3"
  },
  "language_info": {
   "codemirror_mode": {
    "name": "ipython",
    "version": 2
   },
   "file_extension": ".py",
   "mimetype": "text/x-python",
   "name": "python",
   "nbconvert_exporter": "python",
   "pygments_lexer": "ipython2",
   "version": "2.7.6"
  }
 },
 "nbformat": 4,
 "nbformat_minor": 0
}