{
 "cells": [
  {
   "cell_type": "markdown",
   "metadata": {},
   "source": [
    "# Skeleton\n",
    "\n",
    "Dieses `skeleton` soll einen guten Startpunkt geben.\n",
    "Wir laden das `Data Set`, teilen es in `Training Set` und `Validation Set` auf.\n",
    "Zudem schreiben wir eine `.csv` File im richtigen Format für Kaggle.\n",
    "So kann man sich voll auf die Daten Analyse und das Erstellen von Modellen konzentrieren."
   ]
  },
  {
   "cell_type": "code",
   "execution_count": 1,
   "metadata": {
    "papermill": {
     "duration": 0.952664,
     "end_time": "2020-11-12T13:41:11.650914",
     "exception": false,
     "start_time": "2020-11-12T13:41:10.698250",
     "status": "completed"
    },
    "tags": []
   },
   "outputs": [],
   "source": [
    "import pandas as pd\n",
    "import numpy as np\n",
    "import pickle\n",
    "\n",
    "from collections import Counter\n",
    "\n",
    "from sklearn.metrics import accuracy_score\n",
    "\n",
    "from sklearn.model_selection import train_test_split"
   ]
  },
  {
   "cell_type": "markdown",
   "metadata": {
    "papermill": {
     "duration": 0.009145,
     "end_time": "2020-11-12T13:41:11.669935",
     "exception": false,
     "start_time": "2020-11-12T13:41:11.660790",
     "status": "completed"
    },
    "tags": []
   },
   "source": [
    "# Date laden\n",
    "\n",
    "Hier laden wir das `Data Set`."
   ]
  },
  {
   "cell_type": "code",
   "execution_count": 2,
   "metadata": {
    "papermill": {
     "duration": 0.092779,
     "end_time": "2020-11-12T13:41:11.789446",
     "exception": false,
     "start_time": "2020-11-12T13:41:11.696667",
     "status": "completed"
    },
    "tags": []
   },
   "outputs": [],
   "source": [
    "# Load the data and split into features and labels\n",
    "with open('../data/train.pkl', 'rb') as f:\n",
    "    data_train = pickle.load(f)\n",
    "X_data = data_train[\"images\"]\n",
    "y_data = data_train[\"labels\"]"
   ]
  },
  {
   "cell_type": "markdown",
   "source": [
    "Und teilen das `Data Set` in `Training Set` und `Validation Set` auf."
   ],
   "metadata": {
    "collapsed": false,
    "pycharm": {
     "name": "#%% md\n"
    }
   }
  },
  {
   "cell_type": "code",
   "execution_count": 3,
   "metadata": {
    "papermill": {
     "duration": 0.044926,
     "end_time": "2020-11-12T13:41:11.874527",
     "exception": false,
     "start_time": "2020-11-12T13:41:11.829601",
     "status": "completed"
    },
    "tags": []
   },
   "outputs": [],
   "source": [
    "# Split features and labels into train (X_train, y_train) and validation set (X_val, y_val).\n",
    "X_train, X_val, y_train, y_val = train_test_split(X_data, y_data, random_state=42)"
   ]
  },
  {
   "cell_type": "markdown",
   "metadata": {},
   "source": [
    "# Data Analysis\n",
    "\n",
    "Wir empfehlen Ihnen, immer mit der Datenanalyse zu beginnen, um die Daten besser zu verstehen.\n",
    "Bei Bilderdaten macht es immer Sinn die Bilder zu visualisieren, beispielsweise mittels `matplotlib.pyplot.imshow`.\n",
    "Man kann anschliessend noch die Verteilungen der Klasse und der Farbkanäle pro Klasse betrachten."
   ]
  },
  {
   "cell_type": "code",
   "execution_count": 4,
   "metadata": {
    "jupyter": {
     "outputs_hidden": false
    },
    "pycharm": {
     "name": "#%%\n"
    }
   },
   "outputs": [],
   "source": [
    "# TODO: Do your data analysis here"
   ]
  },
  {
   "cell_type": "markdown",
   "metadata": {
    "papermill": {
     "duration": 0.009172,
     "end_time": "2020-11-12T13:41:11.893381",
     "exception": false,
     "start_time": "2020-11-12T13:41:11.884209",
     "status": "completed"
    },
    "tags": []
   },
   "source": [
    "# Define and train model\n",
    "Nach der Datenanalyse sind wir bereit, ein Modell zu trainieren. Wir empfehlen, mit einem sehr einfachen Modell zu beginnen. Komplexere können wir später ausprobieren.\n",
    "\n",
    "Versuchen Sie beispielsweise eine `Logistic Regression` aus."
   ]
  },
  {
   "cell_type": "code",
   "execution_count": 5,
   "metadata": {
    "papermill": {
     "duration": 0.009193,
     "end_time": "2020-11-12T13:41:11.931002",
     "exception": false,
     "start_time": "2020-11-12T13:41:11.921809",
     "status": "completed"
    },
    "tags": []
   },
   "outputs": [],
   "source": [
    "# TODO: Define and train your model here"
   ]
  },
  {
   "cell_type": "markdown",
   "metadata": {},
   "source": [
    "# Evaluate the model"
   ]
  },
  {
   "cell_type": "markdown",
   "metadata": {
    "papermill": {
     "duration": 0.009119,
     "end_time": "2020-11-12T13:41:11.968176",
     "exception": false,
     "start_time": "2020-11-12T13:41:11.959057",
     "status": "completed"
    },
    "tags": []
   },
   "source": [
    "Nachdem wir unser Modell trainiert haben, werden wir es am Validierungsset evaluieren. Beachten Sie, dass wir mit einer Klassifizierungseinstellung für mehrere Klassen arbeiten. Geeignete Metriken für die Mehrklassenklassifizierung sind beispielsweise Genauigkeit, Präzision, Recall oder F1-Score. Sie können alle aus sklearn importiert werden.\n",
    "\n",
    "Es empfiehlt sich, Ihr erstes Ergebnis mit einer zufälligen `Baseline` zu vergleichen.\n",
    "In einem Klassifikationsfall ist es sinnvoll, nicht zufällige Klassen vorherzusagen, sondern immer die Majoritätsklasse (häufigste Klasse) in den Trainingsdaten vorherzusagen.\n",
    "Dies entspricht hier einer Genauigkeit von etwa 10 %, da die Klassen ausgeglichen sind."
   ]
  },
  {
   "cell_type": "code",
   "execution_count": 6,
   "metadata": {
    "papermill": {
     "duration": 0.016847,
     "end_time": "2020-11-12T13:41:11.994562",
     "exception": false,
     "start_time": "2020-11-12T13:41:11.977715",
     "status": "completed"
    },
    "tags": []
   },
   "outputs": [
    {
     "name": "stdout",
     "output_type": "stream",
     "text": [
      "deer\n"
     ]
    }
   ],
   "source": [
    "counts = Counter(y_train.flatten())\n",
    "mode = counts.most_common()[0][0]\n",
    "print(mode)"
   ]
  },
  {
   "cell_type": "code",
   "execution_count": 7,
   "metadata": {},
   "outputs": [
    {
     "data": {
      "text/plain": "0.09456"
     },
     "execution_count": 7,
     "metadata": {},
     "output_type": "execute_result"
    }
   ],
   "source": [
    "y_val_pred = np.repeat(mode, y_val.shape[0])\n",
    "accuracy_score(y_true=y_val, y_pred=y_val_pred)"
   ]
  },
  {
   "cell_type": "markdown",
   "metadata": {
    "papermill": {
     "duration": 0.009323,
     "end_time": "2020-11-12T13:41:12.032676",
     "exception": false,
     "start_time": "2020-11-12T13:41:12.023353",
     "status": "completed"
    },
    "tags": []
   },
   "source": [
    "# Anwendnung des Modells auf dem `Test Set`\n",
    "\n",
    "Wenn wir mit der Leistung unseres Modells auf dem `Validation Set` zufrieden sind, können wir es auf das `Test Set` anwenden."
   ]
  },
  {
   "cell_type": "code",
   "execution_count": 9,
   "metadata": {},
   "outputs": [],
   "source": [
    "with open('../data/test.pkl', 'rb') as f:\n",
    "    X_test = pickle.load(f)"
   ]
  },
  {
   "cell_type": "code",
   "execution_count": 10,
   "metadata": {},
   "outputs": [
    {
     "name": "stdout",
     "output_type": "stream",
     "text": [
      "(10000, 1)\n"
     ]
    }
   ],
   "source": [
    "y_test_pred = np.repeat(mode, X_test.shape[0])\n",
    "y_test_pred_df = pd.DataFrame(y_test_pred, columns=['label'])\n",
    "print(y_test_pred_df.shape)"
   ]
  },
  {
   "cell_type": "markdown",
   "metadata": {
    "pycharm": {
     "name": "#%% md\n"
    }
   },
   "source": [
    "Um die Vorhersagen an Kaggle zu senden, schreiben wir sie in eine .csv-Datei, die Sie manuell übermitteln können."
   ]
  },
  {
   "cell_type": "code",
   "execution_count": 11,
   "metadata": {
    "papermill": {
     "duration": 0.016861,
     "end_time": "2020-11-12T13:41:12.125868",
     "exception": false,
     "start_time": "2020-11-12T13:41:12.109007",
     "status": "completed"
    },
    "pycharm": {
     "name": "#%%\n"
    },
    "tags": []
   },
   "outputs": [],
   "source": [
    "y_test_pred_df.to_csv('../out/train_mode_submission.csv', header=True, index_label='id')"
   ]
  }
 ],
 "metadata": {
  "kernelspec": {
   "display_name": "Python 3",
   "language": "python",
   "name": "python3"
  },
  "language_info": {
   "codemirror_mode": {
    "name": "ipython",
    "version": 3
   },
   "file_extension": ".py",
   "mimetype": "text/x-python",
   "name": "python",
   "nbconvert_exporter": "python",
   "pygments_lexer": "ipython3",
   "version": "3.6.9"
  },
  "papermill": {
   "duration": 6.853286,
   "end_time": "2020-11-12T13:41:13.194189",
   "environment_variables": {},
   "exception": null,
   "input_path": "__notebook__.ipynb",
   "output_path": "__notebook__.ipynb",
   "parameters": {},
   "start_time": "2020-11-12T13:41:06.340903",
   "version": "2.1.0"
  }
 },
 "nbformat": 4,
 "nbformat_minor": 4
}