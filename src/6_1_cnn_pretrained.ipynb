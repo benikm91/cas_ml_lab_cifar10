{
 "cells": [
  {
   "cell_type": "code",
   "execution_count": 1,
   "metadata": {
    "collapsed": true,
    "pycharm": {
     "name": "#%%\n"
    }
   },
   "outputs": [
    {
     "name": "stdout",
     "output_type": "stream",
     "text": [
      "Requirement already satisfied: mxnet in /Users/beni/Documents/Kennwerte/IdeaProjects/cas_machine_learning_cifar10/venv/lib/python3.9/site-packages (1.8.0.post0)\r\n",
      "Requirement already satisfied: numpy<2.0.0,>1.16.0 in /Users/beni/Documents/Kennwerte/IdeaProjects/cas_machine_learning_cifar10/venv/lib/python3.9/site-packages (from mxnet) (1.19.5)\r\n",
      "Requirement already satisfied: graphviz<0.9.0,>=0.8.1 in /Users/beni/Documents/Kennwerte/IdeaProjects/cas_machine_learning_cifar10/venv/lib/python3.9/site-packages (from mxnet) (0.8.4)\r\n",
      "Requirement already satisfied: requests<3,>=2.20.0 in /Users/beni/Documents/Kennwerte/IdeaProjects/cas_machine_learning_cifar10/venv/lib/python3.9/site-packages (from mxnet) (2.26.0)\r\n",
      "Requirement already satisfied: charset-normalizer~=2.0.0 in /Users/beni/Documents/Kennwerte/IdeaProjects/cas_machine_learning_cifar10/venv/lib/python3.9/site-packages (from requests<3,>=2.20.0->mxnet) (2.0.6)\r\n",
      "Requirement already satisfied: idna<4,>=2.5 in /Users/beni/Documents/Kennwerte/IdeaProjects/cas_machine_learning_cifar10/venv/lib/python3.9/site-packages (from requests<3,>=2.20.0->mxnet) (3.2)\r\n",
      "Requirement already satisfied: urllib3<1.27,>=1.21.1 in /Users/beni/Documents/Kennwerte/IdeaProjects/cas_machine_learning_cifar10/venv/lib/python3.9/site-packages (from requests<3,>=2.20.0->mxnet) (1.26.7)\r\n",
      "Requirement already satisfied: certifi>=2017.4.17 in /Users/beni/Documents/Kennwerte/IdeaProjects/cas_machine_learning_cifar10/venv/lib/python3.9/site-packages (from requests<3,>=2.20.0->mxnet) (2021.5.30)\r\n",
      "\u001B[33mWARNING: You are using pip version 21.1.2; however, version 22.1 is available.\r\n",
      "You should consider upgrading via the '/Users/beni/Documents/Kennwerte/IdeaProjects/cas_machine_learning_cifar10/venv/bin/python -m pip install --upgrade pip' command.\u001B[0m\r\n"
     ]
    }
   ],
   "source": [
    "!pip install mxnet"
   ]
  },
  {
   "cell_type": "markdown",
   "metadata": {
    "pycharm": {
     "name": "#%% md\n"
    }
   },
   "source": [
    "# Vortrainiertes Modell\n",
    "\n",
    "Hier verwenden wir ein bereits trainiertes, komplexes Convolutional Neural Network.\n",
    "\n",
    "Das Netzwerk wurde auf dem CIFAR-10 Datensatz trainiert.\n",
    "\n",
    "Es geht hier mehrheitlich darum, aufzuzeigen, wozu grosse CNNs bei **grossen Bilddatensätzen** in der Lage sind."
   ]
  },
  {
   "cell_type": "code",
   "execution_count": 2,
   "metadata": {
    "pycharm": {
     "name": "#%%\n"
    }
   },
   "outputs": [],
   "source": [
    "import numpy as np\n",
    "\n",
    "from sklearn.metrics import accuracy_score\n",
    "import matplotlib.pyplot as plt\n",
    "\n",
    "from sklearn.metrics import ConfusionMatrixDisplay, confusion_matrix\n",
    "\n",
    "import pandas as pd\n",
    "import pickle"
   ]
  },
  {
   "cell_type": "code",
   "execution_count": 3,
   "metadata": {
    "pycharm": {
     "name": "#%%\n"
    }
   },
   "outputs": [],
   "source": [
    "def plot_confusion_matrix(y_true: any, y_pred: any):\n",
    "    \"\"\"\n",
    "        Takes true and predicted labels (arrays) as input. Based on this, calculates and plots a confusion matrix.\n",
    "    \"\"\"\n",
    "    labels = np.unique(y_true)\n",
    "    fig = plt.figure(figsize=(len(labels), len(labels)))\n",
    "    ConfusionMatrixDisplay(\n",
    "      confusion_matrix=confusion_matrix(y_true=y_true, y_pred=y_pred, labels=labels, normalize='all'),\n",
    "      display_labels=labels\n",
    "    ).plot(ax=fig.gca(), cmap=\"BuPu\", xticks_rotation='vertical', include_values=True)\n",
    "    plt.show()"
   ]
  },
  {
   "cell_type": "code",
   "execution_count": 4,
   "metadata": {
    "pycharm": {
     "name": "#%%\n"
    }
   },
   "outputs": [
    {
     "name": "stdout",
     "output_type": "stream",
     "text": [
      "Requirement already satisfied: tensorflow in /Users/beni/Documents/Kennwerte/IdeaProjects/cas_machine_learning_cifar10/venv/lib/python3.9/site-packages (2.6.0)\r\n",
      "Requirement already satisfied: tensorboard~=2.6 in /Users/beni/Documents/Kennwerte/IdeaProjects/cas_machine_learning_cifar10/venv/lib/python3.9/site-packages (from tensorflow) (2.6.0)\r\n",
      "Requirement already satisfied: absl-py~=0.10 in /Users/beni/Documents/Kennwerte/IdeaProjects/cas_machine_learning_cifar10/venv/lib/python3.9/site-packages (from tensorflow) (0.14.1)\r\n",
      "Requirement already satisfied: keras-preprocessing~=1.1.2 in /Users/beni/Documents/Kennwerte/IdeaProjects/cas_machine_learning_cifar10/venv/lib/python3.9/site-packages (from tensorflow) (1.1.2)\r\n",
      "Requirement already satisfied: wheel~=0.35 in /Users/beni/Documents/Kennwerte/IdeaProjects/cas_machine_learning_cifar10/venv/lib/python3.9/site-packages (from tensorflow) (0.36.2)\r\n",
      "Requirement already satisfied: keras~=2.6 in /Users/beni/Documents/Kennwerte/IdeaProjects/cas_machine_learning_cifar10/venv/lib/python3.9/site-packages (from tensorflow) (2.6.0)\r\n",
      "Requirement already satisfied: grpcio<2.0,>=1.37.0 in /Users/beni/Documents/Kennwerte/IdeaProjects/cas_machine_learning_cifar10/venv/lib/python3.9/site-packages (from tensorflow) (1.41.0)\r\n",
      "Requirement already satisfied: flatbuffers~=1.12.0 in /Users/beni/Documents/Kennwerte/IdeaProjects/cas_machine_learning_cifar10/venv/lib/python3.9/site-packages (from tensorflow) (1.12)\r\n",
      "Requirement already satisfied: gast==0.4.0 in /Users/beni/Documents/Kennwerte/IdeaProjects/cas_machine_learning_cifar10/venv/lib/python3.9/site-packages (from tensorflow) (0.4.0)\r\n",
      "Requirement already satisfied: numpy~=1.19.2 in /Users/beni/Documents/Kennwerte/IdeaProjects/cas_machine_learning_cifar10/venv/lib/python3.9/site-packages (from tensorflow) (1.19.5)\r\n",
      "Requirement already satisfied: six~=1.15.0 in /Users/beni/Documents/Kennwerte/IdeaProjects/cas_machine_learning_cifar10/venv/lib/python3.9/site-packages (from tensorflow) (1.15.0)\r\n",
      "Requirement already satisfied: protobuf>=3.9.2 in /Users/beni/Documents/Kennwerte/IdeaProjects/cas_machine_learning_cifar10/venv/lib/python3.9/site-packages (from tensorflow) (3.18.0)\r\n",
      "Requirement already satisfied: opt-einsum~=3.3.0 in /Users/beni/Documents/Kennwerte/IdeaProjects/cas_machine_learning_cifar10/venv/lib/python3.9/site-packages (from tensorflow) (3.3.0)\r\n",
      "Requirement already satisfied: clang~=5.0 in /Users/beni/Documents/Kennwerte/IdeaProjects/cas_machine_learning_cifar10/venv/lib/python3.9/site-packages (from tensorflow) (5.0)\r\n",
      "Requirement already satisfied: astunparse~=1.6.3 in /Users/beni/Documents/Kennwerte/IdeaProjects/cas_machine_learning_cifar10/venv/lib/python3.9/site-packages (from tensorflow) (1.6.3)\r\n",
      "Requirement already satisfied: wrapt~=1.12.1 in /Users/beni/Documents/Kennwerte/IdeaProjects/cas_machine_learning_cifar10/venv/lib/python3.9/site-packages (from tensorflow) (1.12.1)\r\n",
      "Requirement already satisfied: typing-extensions~=3.7.4 in /Users/beni/Documents/Kennwerte/IdeaProjects/cas_machine_learning_cifar10/venv/lib/python3.9/site-packages (from tensorflow) (3.7.4.3)\r\n",
      "Requirement already satisfied: h5py~=3.1.0 in /Users/beni/Documents/Kennwerte/IdeaProjects/cas_machine_learning_cifar10/venv/lib/python3.9/site-packages (from tensorflow) (3.1.0)\r\n",
      "Requirement already satisfied: termcolor~=1.1.0 in /Users/beni/Documents/Kennwerte/IdeaProjects/cas_machine_learning_cifar10/venv/lib/python3.9/site-packages (from tensorflow) (1.1.0)\r\n",
      "Requirement already satisfied: google-pasta~=0.2 in /Users/beni/Documents/Kennwerte/IdeaProjects/cas_machine_learning_cifar10/venv/lib/python3.9/site-packages (from tensorflow) (0.2.0)\r\n",
      "Requirement already satisfied: tensorflow-estimator~=2.6 in /Users/beni/Documents/Kennwerte/IdeaProjects/cas_machine_learning_cifar10/venv/lib/python3.9/site-packages (from tensorflow) (2.6.0)\r\n",
      "Requirement already satisfied: markdown>=2.6.8 in /Users/beni/Documents/Kennwerte/IdeaProjects/cas_machine_learning_cifar10/venv/lib/python3.9/site-packages (from tensorboard~=2.6->tensorflow) (3.3.4)\r\n",
      "Requirement already satisfied: google-auth<2,>=1.6.3 in /Users/beni/Documents/Kennwerte/IdeaProjects/cas_machine_learning_cifar10/venv/lib/python3.9/site-packages (from tensorboard~=2.6->tensorflow) (1.35.0)\r\n",
      "Requirement already satisfied: requests<3,>=2.21.0 in /Users/beni/Documents/Kennwerte/IdeaProjects/cas_machine_learning_cifar10/venv/lib/python3.9/site-packages (from tensorboard~=2.6->tensorflow) (2.26.0)\r\n",
      "Requirement already satisfied: werkzeug>=0.11.15 in /Users/beni/Documents/Kennwerte/IdeaProjects/cas_machine_learning_cifar10/venv/lib/python3.9/site-packages (from tensorboard~=2.6->tensorflow) (2.0.1)\r\n",
      "Requirement already satisfied: google-auth-oauthlib<0.5,>=0.4.1 in /Users/beni/Documents/Kennwerte/IdeaProjects/cas_machine_learning_cifar10/venv/lib/python3.9/site-packages (from tensorboard~=2.6->tensorflow) (0.4.6)\r\n",
      "Requirement already satisfied: setuptools>=41.0.0 in /Users/beni/Documents/Kennwerte/IdeaProjects/cas_machine_learning_cifar10/venv/lib/python3.9/site-packages (from tensorboard~=2.6->tensorflow) (57.0.0)\r\n",
      "Requirement already satisfied: tensorboard-data-server<0.7.0,>=0.6.0 in /Users/beni/Documents/Kennwerte/IdeaProjects/cas_machine_learning_cifar10/venv/lib/python3.9/site-packages (from tensorboard~=2.6->tensorflow) (0.6.1)\r\n",
      "Requirement already satisfied: tensorboard-plugin-wit>=1.6.0 in /Users/beni/Documents/Kennwerte/IdeaProjects/cas_machine_learning_cifar10/venv/lib/python3.9/site-packages (from tensorboard~=2.6->tensorflow) (1.8.0)\r\n",
      "Requirement already satisfied: rsa<5,>=3.1.4 in /Users/beni/Documents/Kennwerte/IdeaProjects/cas_machine_learning_cifar10/venv/lib/python3.9/site-packages (from google-auth<2,>=1.6.3->tensorboard~=2.6->tensorflow) (4.7.2)\r\n",
      "Requirement already satisfied: cachetools<5.0,>=2.0.0 in /Users/beni/Documents/Kennwerte/IdeaProjects/cas_machine_learning_cifar10/venv/lib/python3.9/site-packages (from google-auth<2,>=1.6.3->tensorboard~=2.6->tensorflow) (4.2.4)\r\n",
      "Requirement already satisfied: pyasn1-modules>=0.2.1 in /Users/beni/Documents/Kennwerte/IdeaProjects/cas_machine_learning_cifar10/venv/lib/python3.9/site-packages (from google-auth<2,>=1.6.3->tensorboard~=2.6->tensorflow) (0.2.8)\r\n",
      "Requirement already satisfied: requests-oauthlib>=0.7.0 in /Users/beni/Documents/Kennwerte/IdeaProjects/cas_machine_learning_cifar10/venv/lib/python3.9/site-packages (from google-auth-oauthlib<0.5,>=0.4.1->tensorboard~=2.6->tensorflow) (1.3.0)\r\n",
      "Requirement already satisfied: pyasn1<0.5.0,>=0.4.6 in /Users/beni/Documents/Kennwerte/IdeaProjects/cas_machine_learning_cifar10/venv/lib/python3.9/site-packages (from pyasn1-modules>=0.2.1->google-auth<2,>=1.6.3->tensorboard~=2.6->tensorflow) (0.4.8)\r\n",
      "Requirement already satisfied: idna<4,>=2.5 in /Users/beni/Documents/Kennwerte/IdeaProjects/cas_machine_learning_cifar10/venv/lib/python3.9/site-packages (from requests<3,>=2.21.0->tensorboard~=2.6->tensorflow) (3.2)\r\n",
      "Requirement already satisfied: certifi>=2017.4.17 in /Users/beni/Documents/Kennwerte/IdeaProjects/cas_machine_learning_cifar10/venv/lib/python3.9/site-packages (from requests<3,>=2.21.0->tensorboard~=2.6->tensorflow) (2021.5.30)\r\n",
      "Requirement already satisfied: urllib3<1.27,>=1.21.1 in /Users/beni/Documents/Kennwerte/IdeaProjects/cas_machine_learning_cifar10/venv/lib/python3.9/site-packages (from requests<3,>=2.21.0->tensorboard~=2.6->tensorflow) (1.26.7)\r\n",
      "Requirement already satisfied: charset-normalizer~=2.0.0 in /Users/beni/Documents/Kennwerte/IdeaProjects/cas_machine_learning_cifar10/venv/lib/python3.9/site-packages (from requests<3,>=2.21.0->tensorboard~=2.6->tensorflow) (2.0.6)\r\n",
      "Requirement already satisfied: oauthlib>=3.0.0 in /Users/beni/Documents/Kennwerte/IdeaProjects/cas_machine_learning_cifar10/venv/lib/python3.9/site-packages (from requests-oauthlib>=0.7.0->google-auth-oauthlib<0.5,>=0.4.1->tensorboard~=2.6->tensorflow) (3.1.1)\r\n",
      "\u001B[33mWARNING: You are using pip version 21.1.2; however, version 22.1 is available.\r\n",
      "You should consider upgrading via the '/Users/beni/Documents/Kennwerte/IdeaProjects/cas_machine_learning_cifar10/venv/bin/python -m pip install --upgrade pip' command.\u001B[0m\r\n",
      "Requirement already satisfied: gluoncv in /Users/beni/Documents/Kennwerte/IdeaProjects/cas_machine_learning_cifar10/venv/lib/python3.9/site-packages (0.10.4.post4)\r\n",
      "Requirement already satisfied: tqdm in /Users/beni/Documents/Kennwerte/IdeaProjects/cas_machine_learning_cifar10/venv/lib/python3.9/site-packages (from gluoncv) (4.62.3)\r\n",
      "Requirement already satisfied: pandas in /Users/beni/Documents/Kennwerte/IdeaProjects/cas_machine_learning_cifar10/venv/lib/python3.9/site-packages (from gluoncv) (1.3.3)\r\n",
      "Requirement already satisfied: opencv-python in /Users/beni/Documents/Kennwerte/IdeaProjects/cas_machine_learning_cifar10/venv/lib/python3.9/site-packages (from gluoncv) (4.5.3.56)\r\n",
      "Requirement already satisfied: matplotlib in /Users/beni/Documents/Kennwerte/IdeaProjects/cas_machine_learning_cifar10/venv/lib/python3.9/site-packages (from gluoncv) (3.4.3)\r\n",
      "Requirement already satisfied: portalocker in /Users/beni/Documents/Kennwerte/IdeaProjects/cas_machine_learning_cifar10/venv/lib/python3.9/site-packages (from gluoncv) (2.3.2)\r\n",
      "Requirement already satisfied: scipy in /Users/beni/Documents/Kennwerte/IdeaProjects/cas_machine_learning_cifar10/venv/lib/python3.9/site-packages (from gluoncv) (1.7.1)\r\n",
      "Requirement already satisfied: pyyaml in /Users/beni/Documents/Kennwerte/IdeaProjects/cas_machine_learning_cifar10/venv/lib/python3.9/site-packages (from gluoncv) (6.0)\r\n",
      "Requirement already satisfied: Pillow in /Users/beni/Documents/Kennwerte/IdeaProjects/cas_machine_learning_cifar10/venv/lib/python3.9/site-packages (from gluoncv) (8.3.2)\r\n",
      "Requirement already satisfied: yacs in /Users/beni/Documents/Kennwerte/IdeaProjects/cas_machine_learning_cifar10/venv/lib/python3.9/site-packages (from gluoncv) (0.1.8)\r\n",
      "Requirement already satisfied: requests in /Users/beni/Documents/Kennwerte/IdeaProjects/cas_machine_learning_cifar10/venv/lib/python3.9/site-packages (from gluoncv) (2.26.0)\r\n",
      "Requirement already satisfied: autocfg in /Users/beni/Documents/Kennwerte/IdeaProjects/cas_machine_learning_cifar10/venv/lib/python3.9/site-packages (from gluoncv) (0.0.8)\r\n",
      "Requirement already satisfied: numpy in /Users/beni/Documents/Kennwerte/IdeaProjects/cas_machine_learning_cifar10/venv/lib/python3.9/site-packages (from gluoncv) (1.19.5)\r\n",
      "Requirement already satisfied: kiwisolver>=1.0.1 in /Users/beni/Documents/Kennwerte/IdeaProjects/cas_machine_learning_cifar10/venv/lib/python3.9/site-packages (from matplotlib->gluoncv) (1.3.2)\r\n",
      "Requirement already satisfied: cycler>=0.10 in /Users/beni/Documents/Kennwerte/IdeaProjects/cas_machine_learning_cifar10/venv/lib/python3.9/site-packages (from matplotlib->gluoncv) (0.10.0)\r\n",
      "Requirement already satisfied: pyparsing>=2.2.1 in /Users/beni/Documents/Kennwerte/IdeaProjects/cas_machine_learning_cifar10/venv/lib/python3.9/site-packages (from matplotlib->gluoncv) (2.4.7)\r\n",
      "Requirement already satisfied: python-dateutil>=2.7 in /Users/beni/Documents/Kennwerte/IdeaProjects/cas_machine_learning_cifar10/venv/lib/python3.9/site-packages (from matplotlib->gluoncv) (2.8.2)\r\n",
      "Requirement already satisfied: six in /Users/beni/Documents/Kennwerte/IdeaProjects/cas_machine_learning_cifar10/venv/lib/python3.9/site-packages (from cycler>=0.10->matplotlib->gluoncv) (1.15.0)\r\n",
      "Requirement already satisfied: pytz>=2017.3 in /Users/beni/Documents/Kennwerte/IdeaProjects/cas_machine_learning_cifar10/venv/lib/python3.9/site-packages (from pandas->gluoncv) (2021.1)\r\n",
      "Requirement already satisfied: urllib3<1.27,>=1.21.1 in /Users/beni/Documents/Kennwerte/IdeaProjects/cas_machine_learning_cifar10/venv/lib/python3.9/site-packages (from requests->gluoncv) (1.26.7)\r\n",
      "Requirement already satisfied: charset-normalizer~=2.0.0 in /Users/beni/Documents/Kennwerte/IdeaProjects/cas_machine_learning_cifar10/venv/lib/python3.9/site-packages (from requests->gluoncv) (2.0.6)\r\n",
      "Requirement already satisfied: certifi>=2017.4.17 in /Users/beni/Documents/Kennwerte/IdeaProjects/cas_machine_learning_cifar10/venv/lib/python3.9/site-packages (from requests->gluoncv) (2021.5.30)\r\n",
      "Requirement already satisfied: idna<4,>=2.5 in /Users/beni/Documents/Kennwerte/IdeaProjects/cas_machine_learning_cifar10/venv/lib/python3.9/site-packages (from requests->gluoncv) (3.2)\r\n",
      "\u001B[33mWARNING: You are using pip version 21.1.2; however, version 22.1 is available.\r\n",
      "You should consider upgrading via the '/Users/beni/Documents/Kennwerte/IdeaProjects/cas_machine_learning_cifar10/venv/bin/python -m pip install --upgrade pip' command.\u001B[0m\r\n"
     ]
    }
   ],
   "source": [
    "!pip install tensorflow\n",
    "!pip install gluoncv"
   ]
  },
  {
   "cell_type": "code",
   "execution_count": 5,
   "metadata": {
    "pycharm": {
     "name": "#%%\n"
    }
   },
   "outputs": [],
   "source": [
    "# Class mapping from pretrained model\n",
    "class_names = {\n",
    "    0:'plane',\n",
    "    1:'car',\n",
    "    2:'bird',\n",
    "    3:'cat',\n",
    "    4:'deer',\n",
    "    5:'dog',\n",
    "    6:'frog',\n",
    "    7:'horse',\n",
    "    8:'ship',\n",
    "    9:'truck'\n",
    "}"
   ]
  },
  {
   "cell_type": "markdown",
   "metadata": {
    "pycharm": {
     "name": "#%% md\n"
    }
   },
   "source": [
    "## ResNet110 - Vortrainiertes Modell (auf CIFAR 10)\n",
    "\n",
    "Wir laden das bereits trainierte Netzwerk mittels der `mxnet` Library.\n",
    "\n",
    "Wir müssen das Modell **nicht mehr trainieren** und laden es hier nur.\n",
    "\n",
    "Das verwendete Modell ist eine Implementierung von diesem Paper: https://arxiv.org/abs/1603.05027"
   ]
  },
  {
   "cell_type": "code",
   "execution_count": 6,
   "metadata": {
    "pycharm": {
     "name": "#%%\n"
    }
   },
   "outputs": [],
   "source": [
    "from mxnet.gluon.data.vision import transforms\n",
    "\n",
    "import mxnet as mx\n",
    "from gluoncv.model_zoo import get_model\n",
    "\n",
    "ctx = [mx.cpu(0)]\n",
    "\n",
    "# Get the model CIFAR_ResNet20_v1, with 10 output classes, without pre-trained weights\n",
    "net = get_model('cifar_resnet110_v2', pretrained=True, classes=10)\n",
    "\n",
    "transform_test = transforms.Compose([\n",
    "    transforms.ToTensor(),\n",
    "    transforms.Normalize([0.4914, 0.4822, 0.4465], [0.2023, 0.1994, 0.2010])  # Normalization ist analog wie bei Training des Netwerkes\n",
    "])"
   ]
  },
  {
   "cell_type": "markdown",
   "metadata": {
    "pycharm": {
     "name": "#%% md\n"
    }
   },
   "source": [
    "# Anwendung des Modells auf dem Test Set\n",
    "\n",
    "Wenn wir mit der Leistung unseres Modells auf dem `Validation Set` zufrieden sind, können wir es auf das `Test Set` anwenden."
   ]
  },
  {
   "cell_type": "code",
   "execution_count": 7,
   "metadata": {
    "pycharm": {
     "name": "#%%\n"
    }
   },
   "outputs": [],
   "source": [
    "# Daten laden und aufteilen in Features und Labels\n",
    "with open('../data/test.pkl', 'rb') as f:\n",
    "    data_test = pickle.load(f)\n",
    "X_test = data_test[\"images\"]\n",
    "y_test = data_test[\"labels\"]"
   ]
  },
  {
   "cell_type": "code",
   "execution_count": 8,
   "metadata": {
    "pycharm": {
     "name": "#%%\n"
    }
   },
   "outputs": [
    {
     "name": "stdout",
     "output_type": "stream",
     "text": [
      "CPU times: user 2 µs, sys: 1e+03 ns, total: 3 µs\n",
      "Wall time: 6.91 µs\n"
     ]
    }
   ],
   "source": [
    "%time\n",
    "\n",
    "y_test_pred_prob = net(transform_test(mx.ndarray.array(X_test)))\n",
    "\n",
    "y_test_pred = np.argmax(y_test_pred_prob.asnumpy(), axis=1)\n",
    "# Ziffern zurück zu Labels transformieren (die Reihenfolge ist vom Netz vorgegeben)\n",
    "y_test_pred_enc = np.vectorize(class_names.get)(y_test_pred)"
   ]
  },
  {
   "cell_type": "markdown",
   "metadata": {
    "pycharm": {
     "name": "#%% md\n"
    }
   },
   "source": [
    "Evaluieren wir unsere test-set predictions"
   ]
  },
  {
   "cell_type": "code",
   "execution_count": 9,
   "metadata": {
    "pycharm": {
     "name": "#%%\n"
    }
   },
   "outputs": [
    {
     "data": {
      "text/plain": "0.9554"
     },
     "execution_count": 9,
     "metadata": {},
     "output_type": "execute_result"
    }
   ],
   "source": [
    "accuracy_score(y_true=y_test, y_pred=y_test_pred_enc)"
   ]
  }
 ],
 "metadata": {
  "kernelspec": {
   "display_name": "Python 3",
   "language": "python",
   "name": "python3"
  },
  "language_info": {
   "codemirror_mode": {
    "name": "ipython",
    "version": 3
   },
   "file_extension": ".py",
   "mimetype": "text/x-python",
   "name": "python",
   "nbconvert_exporter": "python",
   "pygments_lexer": "ipython3",
   "version": "3.8.12"
  }
 },
 "nbformat": 4,
 "nbformat_minor": 1
}