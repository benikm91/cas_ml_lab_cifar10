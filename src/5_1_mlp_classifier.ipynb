{
 "cells": [
  {
   "cell_type": "markdown",
   "metadata": {
    "pycharm": {
     "name": "#%% md\n"
    }
   },
   "source": [
    "# MLP (Neural Network in sklearn)\n",
    "\n",
    "Alternative zu tensorflow kann man auch MLP von sklearn brauchen.\n",
    "Wie zeigen wir in diesem Notebook."
   ]
  },
  {
   "cell_type": "code",
   "execution_count": 1,
   "metadata": {
    "execution": {
     "iopub.execute_input": "2022-05-14T11:44:32.057580Z",
     "iopub.status.busy": "2022-05-14T11:44:32.057335Z",
     "iopub.status.idle": "2022-05-14T11:44:33.101193Z",
     "shell.execute_reply": "2022-05-14T11:44:33.100707Z",
     "shell.execute_reply.started": "2022-05-14T11:44:32.057520Z"
    },
    "papermill": {
     "duration": 0.952664,
     "end_time": "2020-11-12T13:41:11.650914",
     "exception": false,
     "start_time": "2020-11-12T13:41:10.698250",
     "status": "completed"
    },
    "tags": [],
    "pycharm": {
     "name": "#%%\n"
    }
   },
   "outputs": [],
   "source": [
    "import pickle\n",
    "import pandas as pd\n",
    "import numpy as np\n",
    "\n",
    "from sklearn.preprocessing import StandardScaler\n",
    "from sklearn.pipeline import Pipeline\n",
    "from sklearn.neural_network import MLPClassifier\n",
    "from sklearn.metrics import accuracy_score\n",
    "from sklearn.model_selection import train_test_split\n",
    "from sklearn.metrics import ConfusionMatrixDisplay\n",
    "\n",
    "import matplotlib.pyplot as plt"
   ]
  },
  {
   "cell_type": "code",
   "execution_count": 2,
   "metadata": {
    "collapsed": false,
    "execution": {
     "iopub.execute_input": "2022-05-14T11:44:33.102117Z",
     "iopub.status.busy": "2022-05-14T11:44:33.101999Z",
     "iopub.status.idle": "2022-05-14T11:44:33.107354Z",
     "shell.execute_reply": "2022-05-14T11:44:33.106195Z",
     "shell.execute_reply.started": "2022-05-14T11:44:33.102101Z"
    },
    "jupyter": {
     "outputs_hidden": false
    },
    "pycharm": {
     "name": "#%%\n"
    }
   },
   "outputs": [],
   "source": [
    "def plot_confusion_matrix(y_true, y_pred):\n",
    "    # Takes true and predicted labels (arrays) as input. Based on this, calculates and plots a confusion matrix.\n",
    "    labels = np.unique(y_true)\n",
    "    fig = plt.figure(figsize=(len(labels), len(labels)))\n",
    "    ConfusionMatrixDisplay.from_predictions(\n",
    "        y_true, y_pred, \n",
    "        normalize='all', \n",
    "        xticks_rotation='vertical', \n",
    "        ax=fig.gca(), \n",
    "        cmap=\"BuPu\"\n",
    "    )\n",
    "    plt.show()"
   ]
  },
  {
   "cell_type": "markdown",
   "metadata": {
    "papermill": {
     "duration": 0.009145,
     "end_time": "2020-11-12T13:41:11.669935",
     "exception": false,
     "start_time": "2020-11-12T13:41:11.660790",
     "status": "completed"
    },
    "tags": [],
    "pycharm": {
     "name": "#%% md\n"
    }
   },
   "source": [
    "# Prepare data"
   ]
  },
  {
   "cell_type": "code",
   "execution_count": 3,
   "metadata": {
    "execution": {
     "iopub.execute_input": "2022-05-14T11:44:33.109922Z",
     "iopub.status.busy": "2022-05-14T11:44:33.109517Z",
     "iopub.status.idle": "2022-05-14T11:44:33.227952Z",
     "shell.execute_reply": "2022-05-14T11:44:33.227336Z",
     "shell.execute_reply.started": "2022-05-14T11:44:33.109885Z"
    },
    "papermill": {
     "duration": 0.092779,
     "end_time": "2020-11-12T13:41:11.789446",
     "exception": false,
     "start_time": "2020-11-12T13:41:11.696667",
     "status": "completed"
    },
    "tags": [],
    "pycharm": {
     "name": "#%%\n"
    }
   },
   "outputs": [],
   "source": [
    "# Load the data and split into features and labels\n",
    "with open('../data/train.pkl', 'rb') as f:\n",
    "    data_train = pickle.load(f)\n",
    "X_data = data_train[\"images\"]\n",
    "y_data = data_train[\"labels\"]"
   ]
  },
  {
   "cell_type": "code",
   "execution_count": 4,
   "metadata": {
    "execution": {
     "iopub.execute_input": "2022-05-14T11:44:33.229394Z",
     "iopub.status.busy": "2022-05-14T11:44:33.229051Z",
     "iopub.status.idle": "2022-05-14T11:44:33.322513Z",
     "shell.execute_reply": "2022-05-14T11:44:33.321900Z",
     "shell.execute_reply.started": "2022-05-14T11:44:33.229356Z"
    },
    "papermill": {
     "duration": 0.044926,
     "end_time": "2020-11-12T13:41:11.874527",
     "exception": false,
     "start_time": "2020-11-12T13:41:11.829601",
     "status": "completed"
    },
    "tags": [],
    "pycharm": {
     "name": "#%%\n"
    }
   },
   "outputs": [],
   "source": [
    "# Split features and labels into train (X_train, y_train) and validation set (X_val, y_val).\n",
    "X_train, X_val, y_train, y_val = train_test_split(X_data, y_data, random_state=42)"
   ]
  },
  {
   "cell_type": "code",
   "execution_count": 5,
   "metadata": {
    "execution": {
     "iopub.execute_input": "2022-05-14T11:44:33.323960Z",
     "iopub.status.busy": "2022-05-14T11:44:33.323596Z",
     "iopub.status.idle": "2022-05-14T11:47:46.395160Z",
     "shell.execute_reply": "2022-05-14T11:47:46.394036Z",
     "shell.execute_reply.started": "2022-05-14T11:44:33.323938Z"
    },
    "pycharm": {
     "name": "#%%\n"
    }
   },
   "outputs": [
    {
     "name": "stdout",
     "output_type": "stream",
     "text": [
      "[Pipeline] ............... (step 1 of 2) Processing std, total=   2.3s\n",
      "Iteration 1, loss = 2.46135364\n",
      "Iteration 2, loss = 1.63304685\n",
      "Iteration 3, loss = 1.40471575\n",
      "Iteration 4, loss = 1.26712156\n",
      "Iteration 5, loss = 1.19415934\n",
      "Iteration 6, loss = 1.13212214\n",
      "Iteration 7, loss = 1.09185845\n",
      "Iteration 8, loss = 1.00326744\n",
      "Iteration 9, loss = 0.98511813\n",
      "Iteration 10, loss = 0.96037340\n",
      "[Pipeline] ............... (step 2 of 2) Processing clf, total= 3.1min\n"
     ]
    },
    {
     "name": "stderr",
     "output_type": "stream",
     "text": [
      "/Users/ivo/.virtualenvs/mllab/lib/python3.9/site-packages/sklearn/neural_network/_multilayer_perceptron.py:692: ConvergenceWarning: Stochastic Optimizer: Maximum iterations (10) reached and the optimization hasn't converged yet.\n",
      "  warnings.warn(\n"
     ]
    },
    {
     "name": "stdout",
     "output_type": "stream",
     "text": [
      "Train:  0.7219733333333334\n",
      "Val:    0.49624\n",
      "CPU times: user 20min 6s, sys: 4min 38s, total: 24min 45s\n",
      "Wall time: 3min 13s\n"
     ]
    }
   ],
   "source": [
    "%%time\n",
    "\n",
    "nn = Pipeline([\n",
    "    ('std', StandardScaler()), \n",
    "    ('clf', MLPClassifier(hidden_layer_sizes=(1024,), max_iter=10, verbose=True))\n",
    "], verbose=True)\n",
    "\n",
    "nn.fit(X_train.reshape(-1, 32 * 32 * 3), y_train)\n",
    "\n",
    "y_train_hat = nn.predict(X_train.reshape(-1, 32 * 32 * 3))\n",
    "print(\"Train: \", accuracy_score(y_train_hat, y_train))\n",
    "\n",
    "y_val_hat = nn.predict(X_val.reshape(-1, 32 * 32 * 3))\n",
    "print(\"Val:   \", accuracy_score(y_val_hat, y_val))"
   ]
  },
  {
   "cell_type": "markdown",
   "metadata": {
    "pycharm": {
     "name": "#%% md\n"
    }
   },
   "source": [
    "# Predict classes for test set\n",
    "\n",
    "If we are happy with the performance of our model on the validation set, we can apply it to the test set."
   ]
  },
  {
   "cell_type": "code",
   "execution_count": 9,
   "metadata": {
    "collapsed": false,
    "execution": {
     "iopub.execute_input": "2022-05-14T11:48:33.273403Z",
     "iopub.status.busy": "2022-05-14T11:48:33.273032Z",
     "iopub.status.idle": "2022-05-14T11:48:33.296628Z",
     "shell.execute_reply": "2022-05-14T11:48:33.295905Z",
     "shell.execute_reply.started": "2022-05-14T11:48:33.273367Z"
    },
    "jupyter": {
     "outputs_hidden": false
    },
    "pycharm": {
     "name": "#%%\n"
    },
    "tags": []
   },
   "outputs": [],
   "source": [
    "# Daten laden und aufteilen in Features und Labels\n",
    "with open('../data/test.pkl', 'rb') as f:\n",
    "    data_test = pickle.load(f)\n",
    "    \n",
    "X_test = data_test[\"images\"]\n",
    "y_test = data_test[\"labels\"]"
   ]
  },
  {
   "cell_type": "code",
   "execution_count": 10,
   "metadata": {
    "collapsed": false,
    "execution": {
     "iopub.execute_input": "2022-05-14T11:48:34.539347Z",
     "iopub.status.busy": "2022-05-14T11:48:34.539056Z",
     "iopub.status.idle": "2022-05-14T11:48:35.009415Z",
     "shell.execute_reply": "2022-05-14T11:48:35.008779Z",
     "shell.execute_reply.started": "2022-05-14T11:48:34.539315Z"
    },
    "jupyter": {
     "outputs_hidden": false
    },
    "pycharm": {
     "name": "#%%\n"
    },
    "tags": []
   },
   "outputs": [],
   "source": [
    "y_test_pred = nn.predict(X_test.reshape(-1, 32 * 32 * 3))"
   ]
  },
  {
   "cell_type": "markdown",
   "metadata": {
    "pycharm": {
     "name": "#%% md\n"
    }
   },
   "source": [
    "Evaluieren wir unsere test-set predictions"
   ]
  },
  {
   "cell_type": "code",
   "execution_count": 12,
   "metadata": {
    "collapsed": false,
    "execution": {
     "iopub.execute_input": "2022-05-14T11:48:41.414088Z",
     "iopub.status.busy": "2022-05-14T11:48:41.413812Z",
     "iopub.status.idle": "2022-05-14T11:48:41.423614Z",
     "shell.execute_reply": "2022-05-14T11:48:41.422775Z",
     "shell.execute_reply.started": "2022-05-14T11:48:41.414057Z"
    },
    "jupyter": {
     "outputs_hidden": false
    },
    "pycharm": {
     "name": "#%%\n"
    },
    "tags": []
   },
   "outputs": [
    {
     "data": {
      "text/plain": [
       "0.4861"
      ]
     },
     "execution_count": 12,
     "metadata": {},
     "output_type": "execute_result"
    }
   ],
   "source": [
    "accuracy_score(y_test, y_test_pred)"
   ]
  },
  {
   "cell_type": "code",
   "execution_count": null,
   "metadata": {
    "pycharm": {
     "name": "#%%\n"
    }
   },
   "outputs": [],
   "source": []
  }
 ],
 "metadata": {
  "kernelspec": {
   "display_name": "~Env (virtualenv_mllab)",
   "language": "python",
   "name": "virtualenv_mllab"
  },
  "language_info": {
   "codemirror_mode": {
    "name": "ipython",
    "version": 3
   },
   "file_extension": ".py",
   "mimetype": "text/x-python",
   "name": "python",
   "nbconvert_exporter": "python",
   "pygments_lexer": "ipython3",
   "version": "3.9.2"
  },
  "papermill": {
   "duration": 6.853286,
   "end_time": "2020-11-12T13:41:13.194189",
   "environment_variables": {},
   "exception": null,
   "input_path": "__notebook__.ipynb",
   "output_path": "__notebook__.ipynb",
   "parameters": {},
   "start_time": "2020-11-12T13:41:06.340903",
   "version": "2.1.0"
  }
 },
 "nbformat": 4,
 "nbformat_minor": 4
}